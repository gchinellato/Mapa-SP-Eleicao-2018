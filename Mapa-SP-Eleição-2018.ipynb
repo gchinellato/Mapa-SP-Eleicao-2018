{
 "cells": [
  {
   "cell_type": "markdown",
   "metadata": {},
   "source": [
    "# Mapa do resultado das Eleições de Deputado Estatudais de 2018 por Zona Eleitoral"
   ]
  },
  {
   "cell_type": "code",
   "execution_count": null,
   "metadata": {},
   "outputs": [],
   "source": [
    "'''\n",
    "Fontes:\n",
    "IBGE - shapefiles\n",
    "https://mapas.ibge.gov.br/bases-e-referenciais/bases-cartograficas/malhas-digitais.html\n",
    "ftp://geoftp.ibge.gov.br/organizacao_do_territorio/malhas_territoriais/malhas_municipais/municipio_2015/Brasil/BR/br_municipios.zip\n",
    "\n",
    "TSE - resultado eleição\n",
    "http://www.tse.jus.br/eleicoes/estatisticas/repositorio-de-dados-eleitorais-1/repositorio-de-dados-eleitorais/\n",
    "http://agencia.tse.jus.br/estatistica/sead/odsele/votacao_candidato_munzona/votacao_candidato_munzona_2018.zip\n",
    "http://www.tse.jus.br/eleitor/cartorios-e-zonas-eleitorais/pesquisa-a-zonas-eleitorais\n",
    "\n",
    "mapaslivres - correspondencia entre TSE e IBGE\n",
    "https://github.com/mapaslivres/zonas-eleitorais\n",
    "\n",
    "Estadão Dados - zonas eleitorais\n",
    "https://drive.google.com/drive/u/1/folders/1qwTlkNnt5SEnzirhrXbSXGST6vNvUAVM\n",
    "\n",
    "Dados Abertos SP - shapefile\n",
    "http://dados.prefeitura.sp.gov.br/pt_PT/dataset/distritos/resource/9e75c2f7-5729-4398-8a83-b4640f072b5d\n",
    "'''"
   ]
  },
  {
   "cell_type": "code",
   "execution_count": null,
   "metadata": {},
   "outputs": [],
   "source": [
    "%matplotlib inline\n",
    "import pandas as pd\n",
    "import matplotlib.pyplot as plt\n",
    "import geopandas as gpd"
   ]
  },
  {
   "cell_type": "code",
   "execution_count": null,
   "metadata": {},
   "outputs": [],
   "source": [
    "df_chunk = pd.read_csv('./votos/votacao_candidato_munzona_2018_SP.csv', sep=';', encoding='latin1', chunksize=10000)"
   ]
  },
  {
   "cell_type": "code",
   "execution_count": null,
   "metadata": {},
   "outputs": [],
   "source": [
    "cols = ['CD_MUNICIPIO', 'NM_MUNICIPIO', 'NR_ZONA', 'DS_CARGO',\n",
    "        'NR_CANDIDATO', 'NM_URNA_CANDIDATO', 'NR_PARTIDO', 'SG_PARTIDO', \n",
    "        'QT_VOTOS_NOMINAIS']\n",
    "\n",
    "DS_CARGO = 'Deputado Estadual'\n",
    "NR_CANDIDATO = 25555 "
   ]
  },
  {
   "cell_type": "code",
   "execution_count": null,
   "metadata": {},
   "outputs": [],
   "source": [
    "#df = df_chunk.get_chunk(5)\n",
    "#df = df[df['DS_CARGO'] == DS_CARGO]\n",
    "#df = df[df['NR_CANDIDATO'] == NR_CANDIDATO]\n",
    "#df = df[cols]\n",
    "#df.head().T"
   ]
  },
  {
   "cell_type": "code",
   "execution_count": null,
   "metadata": {},
   "outputs": [],
   "source": [
    "chunk_list = []\n",
    "\n",
    "# Each chunk is in df format\n",
    "for chunk in df_chunk:  \n",
    "    # perform data filtering \n",
    "    chunk_filter = chunk[chunk['DS_CARGO'] == DS_CARGO]\n",
    "    #chunk_filter = chunk_filter[chunk_filter['NR_CANDIDATO'] == NR_CANDIDATO]\n",
    "    chunk_filter = chunk_filter[cols]\n",
    "    \n",
    "    # Once the data filtering is done, append the chunk to list\n",
    "    chunk_list.append(chunk_filter)\n",
    "    \n",
    "# concat the list into dataframe \n",
    "df_concat = pd.concat(chunk_list)"
   ]
  },
  {
   "cell_type": "code",
   "execution_count": null,
   "metadata": {},
   "outputs": [],
   "source": [
    "df_concat.head()"
   ]
  },
  {
   "cell_type": "code",
   "execution_count": null,
   "metadata": {},
   "outputs": [],
   "source": [
    "df_candidato = df_concat[df_concat['NR_CANDIDATO'] == NR_CANDIDATO]"
   ]
  },
  {
   "cell_type": "code",
   "execution_count": null,
   "metadata": {},
   "outputs": [],
   "source": [
    "df_zona = df_candidato.groupby(['NR_ZONA'])['QT_VOTOS_NOMINAIS'].sum().reset_index()"
   ]
  },
  {
   "cell_type": "code",
   "execution_count": null,
   "metadata": {},
   "outputs": [],
   "source": [
    "df_zona['QT_VOTOS_NOMINAIS'].sum()"
   ]
  },
  {
   "cell_type": "code",
   "execution_count": null,
   "metadata": {},
   "outputs": [],
   "source": [
    "df_mapa = gpd.read_file('./geo/SP_ZONAS_janeiro_2018/ZONAS_FINAL.shp')"
   ]
  },
  {
   "cell_type": "code",
   "execution_count": null,
   "metadata": {},
   "outputs": [],
   "source": [
    "df_mapa_novo = df_mapa.join(df_zona)"
   ]
  },
  {
   "cell_type": "code",
   "execution_count": null,
   "metadata": {},
   "outputs": [],
   "source": [
    "from mpl_toolkits.axes_grid1 import make_axes_locatable\n",
    "\n",
    "fig, ax = plt.subplots(1, figsize=(12,12))\n",
    "\n",
    "divider = make_axes_locatable(ax)\n",
    "cax = divider.append_axes(\"right\", size=\"5%\", pad=0.1)\n",
    "ax = df_mapa_novo.plot(column='QT_VOTOS_NOMINAIS', legend=True,\n",
    "                       legend_kwds={'label': \"Votos\", 'orientation': \"vertical\"}, \n",
    "                       linewidth=0.1, ax=ax, cax=cax, edgecolor='grey')\n",
    "ax.set_axis_off()\n",
    "ax.set_title('Resultado Eleição 2018 por Município de São Paulo', fontdict={'fontsize':'25', 'fontweight':'3'})\n",
    "ax.annotate('Fonte: Estadão Dados, 2018; TSE, 2018', xy=(0.1,0.08),\n",
    "            xycoords='figure fraction', horizontalalignment='left', verticalalignment='top', fontsize=10, color='#555555')\n",
    "plt.show()"
   ]
  },
  {
   "cell_type": "code",
   "execution_count": null,
   "metadata": {},
   "outputs": [],
   "source": []
  }
 ],
 "metadata": {
  "kernelspec": {
   "display_name": "Python 3",
   "language": "python",
   "name": "python3"
  },
  "language_info": {
   "codemirror_mode": {
    "name": "ipython",
    "version": 3
   },
   "file_extension": ".py",
   "mimetype": "text/x-python",
   "name": "python",
   "nbconvert_exporter": "python",
   "pygments_lexer": "ipython3",
   "version": "3.7.4"
  }
 },
 "nbformat": 4,
 "nbformat_minor": 2
}
